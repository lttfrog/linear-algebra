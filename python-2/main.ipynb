{
 "cells": [
  {
   "cell_type": "code",
   "execution_count": null,
   "metadata": {},
   "outputs": [
    {
     "name": "stderr",
     "output_type": "stream",
     "text": [
      "Dec 05, 2024 7:01:30 PM org.apache.pdfbox.pdmodel.font.PDTrueTypeFont <init>\n",
      "WARNING: Using fallback font 'LiberationSans' for 'Times New Roman,Bold'\n",
      "Dec 05, 2024 7:01:30 PM org.apache.pdfbox.pdmodel.font.PDTrueTypeFont <init>\n",
      "WARNING: Using fallback font 'LiberationSans' for 'Times New Roman'\n",
      "Dec 05, 2024 7:01:30 PM org.apache.pdfbox.pdmodel.font.PDTrueTypeFont <init>\n",
      "WARNING: Using fallback font 'LiberationSans' for 'Times New Roman,Bold'\n",
      "Dec 05, 2024 7:01:30 PM org.apache.pdfbox.pdmodel.font.PDTrueTypeFont <init>\n",
      "WARNING: Using fallback font 'LiberationSans' for 'Times New Roman'\n",
      "Dec 05, 2024 7:01:30 PM org.apache.pdfbox.pdmodel.font.PDTrueTypeFont <init>\n",
      "WARNING: Using fallback font 'LiberationSans' for 'Times New Roman,Bold'\n",
      "Dec 05, 2024 7:01:30 PM org.apache.pdfbox.pdmodel.font.PDTrueTypeFont <init>\n",
      "WARNING: Using fallback font 'LiberationSans' for 'Times New Roman'\n",
      "Dec 05, 2024 7:01:30 PM org.apache.pdfbox.pdmodel.font.PDTrueTypeFont <init>\n",
      "WARNING: Using fallback font 'LiberationSans' for 'Times New Roman,Bold'\n",
      "Dec 05, 2024 7:01:30 PM org.apache.pdfbox.pdmodel.font.PDTrueTypeFont <init>\n",
      "WARNING: Using fallback font 'LiberationSans' for 'Times New Roman'\n"
     ]
    },
    {
     "data": {
      "text/plain": [
       "'4,464'"
      ]
     },
     "metadata": {},
     "output_type": "display_data"
    }
   ],
   "source": [
    "from tabula import read_pdf, convert_into\n",
    "\n",
    "csvData = read_pdf(\"/home/ting/la/pdfs/11302.pdf\", encoding=\"big5hkscs\", pages=[48])\n",
    "\n",
    "convert_into(\"/home/ting/la/pdfs/11302.pdf\", \"/home/ting/la/pdfs/11302.csv\", output_format=\"csv\", pages=[48])\n",
    "\n",
    "display(int(csvData[0].iloc[22,8]))\n"
   ]
  },
  {
   "cell_type": "code",
   "execution_count": 95,
   "metadata": {},
   "outputs": [
    {
     "data": {
      "text/plain": [
       "每日平均客運人數      -0.525068\n",
       "每日平均延人公里      -0.689834\n",
       "每日平均客運收入      -0.615515\n",
       "每旅客平均運程       -0.036531\n",
       "平均每日每公里客運密度   -0.689853\n",
       "每日平均客車公里      -0.070297\n",
       "客座利用率         -0.708009\n",
       "準點率            1.000000\n",
       "Name: 準點率, dtype: float64"
      ]
     },
     "metadata": {},
     "output_type": "display_data"
    }
   ],
   "source": [
    "import pandas as pd\n",
    "import matplotlib\n",
    "import matplotlib.pyplot as plt\n",
    "import seaborn as sns\n",
    "\n",
    "matplotlib.rc('font', family='Microsoft JhengHei')\n",
    "\n",
    "df = pd.DataFrame()\n",
    "\n",
    "## 2021, 2025\n",
    "for year in range(2023, 2024):\n",
    "    theRange = range(1, 13)\n",
    "    if year == 2020:\n",
    "        theRange = range(10, 13)\n",
    "    elif year == 2024:\n",
    "        theRange = range(1, 10)\n",
    "    for month in theRange:\n",
    "        csvData = pd.read_csv(f\"/home/ting/la/台鐵數據csv/{year}-{str(month).zfill(2)}.csv\", encoding=\"Big5\")\n",
    "        df = pd.concat(\n",
    "            [\n",
    "                df, \n",
    "                csvData.iloc[2:10, 3:4].reset_index(drop=True).transpose()\n",
    "            ],\n",
    "            axis=0, ignore_index=True)\n",
    "        if (year == 2020 and 10 <= month <= 12) or (year == 2021 and 1 <= month <= 9):\n",
    "            df = pd.concat(\n",
    "            [\n",
    "                df, \n",
    "                csvData.iloc[2:10, 4:5].reset_index(drop=True).transpose()\n",
    "            ],\n",
    "            axis=0, ignore_index=True)\n",
    "\n",
    "df.rename(columns={0: \"每日平均客運人數\", 1: \"每日平均延人公里\", 2: \"每日平均客運收入\", 3: \"每旅客平均運程\", 4: \"平均每日每公里客運密度\", 5: \"每日平均客車公里\", 6: \"客座利用率\", 7: \"準點率\"}, inplace=True)\n",
    "df.replace(\",\", \"\", regex=True, inplace=True)\n",
    "# display(df)\n",
    "\n",
    "correlations = df.corr()\n",
    "\n",
    "# sns.heatmap(correlations, annot=True, cmap='coolwarm')\n",
    "# plt.show()\n",
    "\n",
    "display(correlations[\"準點率\"])\n"
   ]
  },
  {
   "cell_type": "code",
   "execution_count": null,
   "metadata": {},
   "outputs": [],
   "source": []
  }
 ],
 "metadata": {
  "kernelspec": {
   "display_name": "Python 3",
   "language": "python",
   "name": "python3"
  },
  "language_info": {
   "codemirror_mode": {
    "name": "ipython",
    "version": 3
   },
   "file_extension": ".py",
   "mimetype": "text/x-python",
   "name": "python",
   "nbconvert_exporter": "python",
   "pygments_lexer": "ipython3",
   "version": "3.10.12"
  }
 },
 "nbformat": 4,
 "nbformat_minor": 2
}
